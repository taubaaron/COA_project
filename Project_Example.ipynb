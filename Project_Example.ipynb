{
  "cells": [
    {
      "cell_type": "code",
      "execution_count": null,
      "metadata": {
        "id": "8NhQLiRZYfn_"
      },
      "outputs": [],
      "source": [
        "import numpy as np\n",
        "\n",
        "def score(X, A):\n",
        "  scores = np.einsum('...i,ij,...j->...', A, X, A)\n",
        "  return np.linalg.det(X), np.mean(scores <= 1. + 1e-8) # industrial solvers always miss\n",
        "\n",
        "n, d = 100, 3\n",
        "np.random.seed(0)\n",
        "A = np.random.randn(n, d) * (np.arange(d) + 1.)"
      ]
    },
    {
      "cell_type": "code",
      "execution_count": null,
      "metadata": {
        "colab": {
          "base_uri": "https://localhost:8080/"
        },
        "id": "hyiOAGHWYz_7",
        "outputId": "7bcf7009-836c-48b6-b916-577a3b79b0dd"
      },
      "outputs": [
        {
          "output_type": "execute_result",
          "data": {
            "text/plain": [
              "(4.0095598715264766e-05, 1.0)"
            ]
          },
          "metadata": {},
          "execution_count": 2
        }
      ],
      "source": [
        "import cvxpy as cp\n",
        "\n",
        "def solve_cvx(A):\n",
        "  n, d = A.shape\n",
        "\n",
        "  # use root instead of covariance matrix\n",
        "  R = cp.Variable(shape=(d,d), PSD=True)\n",
        "\n",
        "  # objective and constraints\n",
        "  obj = cp.Minimize(-cp.log_det(R))\n",
        "  constraints = [cp.SOC(1., R @ A[i]) for i in range(n)]\n",
        "  prob = cp.Problem(obj, constraints)\n",
        "\n",
        "  # solve\n",
        "  prob.solve(solver=cp.SCS)\n",
        "  if prob.status != cp.OPTIMAL:\n",
        "    raise Exception('CVXPY Error')\n",
        "\n",
        "  # fixing the result and projection\n",
        "  X = R.value.T @ R.value\n",
        "  X /= np.max(np.einsum('...i,ij,...j->...', A, C, A))\n",
        "\n",
        "  return X\n",
        "\n",
        "X_cvx = solve(A)\n",
        "score(X_cvx, A)"
      ]
    }
  ],
  "metadata": {
    "colab": {
      "provenance": [],
      "toc_visible": true
    },
    "kernelspec": {
      "display_name": "Python 3",
      "name": "python3"
    },
    "language_info": {
      "name": "python"
    }
  },
  "nbformat": 4,
  "nbformat_minor": 0
}